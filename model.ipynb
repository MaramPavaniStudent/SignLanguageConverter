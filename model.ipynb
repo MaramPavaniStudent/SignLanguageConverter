{
  "cells": [
    {
      "source": [
        "\n",
        "# IMPORTANT: RUN THIS CELL IN ORDER TO IMPORT YOUR KAGGLE DATA SOURCES\n",
        "# TO THE CORRECT LOCATION (/kaggle/input) IN YOUR NOTEBOOK,\n",
        "# THEN FEEL FREE TO DELETE THIS CELL.\n",
        "# NOTE: THIS NOTEBOOK ENVIRONMENT DIFFERS FROM KAGGLE'S PYTHON\n",
        "# ENVIRONMENT SO THERE MAY BE MISSING LIBRARIES USED BY YOUR\n",
        "# NOTEBOOK.\n",
        "\n",
        "import os\n",
        "import sys\n",
        "from tempfile import NamedTemporaryFile\n",
        "from urllib.request import urlopen\n",
        "from urllib.parse import unquote, urlparse\n",
        "from urllib.error import HTTPError\n",
        "from zipfile import ZipFile\n",
        "import tarfile\n",
        "import shutil\n",
        "\n",
        "CHUNK_SIZE = 40960\n",
        "DATA_SOURCE_MAPPING = 'sign-language-mnist:https%3A%2F%2Fstorage.googleapis.com%2Fkaggle-data-sets%2F3258%2F5337%2Fbundle%2Farchive.zip%3FX-Goog-Algorithm%3DGOOG4-RSA-SHA256%26X-Goog-Credential%3Dgcp-kaggle-com%2540kaggle-161607.iam.gserviceaccount.com%252F20241001%252Fauto%252Fstorage%252Fgoog4_request%26X-Goog-Date%3D20241001T172833Z%26X-Goog-Expires%3D259200%26X-Goog-SignedHeaders%3Dhost%26X-Goog-Signature%3D8ff000287a6f56e1b0319cc4a8a8282329d67f63af4145b29e0c950959516cbd60b202653dc0add8668571e19697c83b925013f7c5e51280720a5fa65d01be9e824e79cefb9545c738e51e8686a01696161b72da211e367518da08bcf10fd3622a5ae93e1c5c75477195b78269ae07c6af675ff6eaeece14e168b757d499c22bc8faa257c896991a7138a08cf05ba07697cc04818cbc18b6063f90acb73daf5d74177649a4ba8a5abc9e7c02e485c4d28348a36ec6fffa013824fab57fd545af0533e927789d537a5849f93a130da52abe12845c67b2d6c1ca175115ca393f6d0885483c3db845d0342f498ccc0f90b485efb05f88f5a7ed512d9eb655e6252f'\n",
        "\n",
        "KAGGLE_INPUT_PATH='/kaggle/input'\n",
        "KAGGLE_WORKING_PATH='/kaggle/working'\n",
        "KAGGLE_SYMLINK='kaggle'\n",
        "\n",
        "!umount /kaggle/input/ 2> /dev/null\n",
        "shutil.rmtree('/kaggle/input', ignore_errors=True)\n",
        "os.makedirs(KAGGLE_INPUT_PATH, 0o777, exist_ok=True)\n",
        "os.makedirs(KAGGLE_WORKING_PATH, 0o777, exist_ok=True)\n",
        "\n",
        "try:\n",
        "  os.symlink(KAGGLE_INPUT_PATH, os.path.join(\"..\", 'input'), target_is_directory=True)\n",
        "except FileExistsError:\n",
        "  pass\n",
        "try:\n",
        "  os.symlink(KAGGLE_WORKING_PATH, os.path.join(\"..\", 'working'), target_is_directory=True)\n",
        "except FileExistsError:\n",
        "  pass\n",
        "\n",
        "for data_source_mapping in DATA_SOURCE_MAPPING.split(','):\n",
        "    directory, download_url_encoded = data_source_mapping.split(':')\n",
        "    download_url = unquote(download_url_encoded)\n",
        "    filename = urlparse(download_url).path\n",
        "    destination_path = os.path.join(KAGGLE_INPUT_PATH, directory)\n",
        "    try:\n",
        "        with urlopen(download_url) as fileres, NamedTemporaryFile() as tfile:\n",
        "            total_length = fileres.headers['content-length']\n",
        "            print(f'Downloading {directory}, {total_length} bytes compressed')\n",
        "            dl = 0\n",
        "            data = fileres.read(CHUNK_SIZE)\n",
        "            while len(data) > 0:\n",
        "                dl += len(data)\n",
        "                tfile.write(data)\n",
        "                done = int(50 * dl / int(total_length))\n",
        "                sys.stdout.write(f\"\\r[{'=' * done}{' ' * (50-done)}] {dl} bytes downloaded\")\n",
        "                sys.stdout.flush()\n",
        "                data = fileres.read(CHUNK_SIZE)\n",
        "            if filename.endswith('.zip'):\n",
        "              with ZipFile(tfile) as zfile:\n",
        "                zfile.extractall(destination_path)\n",
        "            else:\n",
        "              with tarfile.open(tfile.name) as tarfile:\n",
        "                tarfile.extractall(destination_path)\n",
        "            print(f'\\nDownloaded and uncompressed: {directory}')\n",
        "    except HTTPError as e:\n",
        "        print(f'Failed to load (likely expired) {download_url} to path {destination_path}')\n",
        "        continue\n",
        "    except OSError as e:\n",
        "        print(f'Failed to load {download_url} to path {destination_path}')\n",
        "        continue\n",
        "\n",
        "print('Data source import complete.')\n"
      ],
      "metadata": {
        "id": "b39UYtsyIIIm"
      },
      "cell_type": "code",
      "outputs": [],
      "execution_count": null
    },
    {
      "metadata": {
        "id": "I9rntOSTIIIp"
      },
      "cell_type": "markdown",
      "source": [
        "# **Sign Language Recognition Using CNN**\n",
        "\n",
        "Communication is an important part of our lives. Deaf and dumb people being unable to speak and listen, experience a lot of problems while communicating with normal people. There are many ways by which people with these disabilities try to communicate. One of the most prominent ways is the use of sign language, i.e. hand gestures. It is necessary to develop an application for recognizing gestures and actions of sign language so that deaf and dumb people can communicate easily with even those who don’t understand sign language. The objective of this work is to take an elementary step in breaking the barrier in communication between the normal people and deaf and dumb people with the help of sign language.\n",
        "\n",
        "American Sign Language (ASL) is a complete, natural language that has the same linguistic properties as spoken languages, with grammar that differs from English. ASL is expressed by movements of the hands and face. It is the primary language of many North Americans who are deaf and hard of hearing, and is used by many hearing people as well.\n",
        "![![NIDCD-ASL-hands-2019.jpg](attachment:NIDCD-ASL-hands-2019.jpg)]\n",
        "\n"
      ]
    },
    {
      "metadata": {
        "_uuid": "8f2839f25d086af736a60e9eeb907d3b93b6e0e5",
        "_cell_guid": "b1076dfc-b9ad-4769-8c92-a6c4dae69d19",
        "trusted": true,
        "id": "rbw_SuN3IIIq"
      },
      "cell_type": "code",
      "source": [
        "# This Python 3 environment comes with many helpful analytics libraries installed\n",
        "# It is defined by the kaggle/python docker image: https://github.com/kaggle/docker-python\n",
        "# For example, here's several helpful packages to load in\n",
        "\n",
        "import numpy as np # linear algebra\n",
        "import pandas as pd # data processing, CSV file I/O (e.g. pd.read_csv)\n",
        "\n",
        "# Input data files are available in the \"../input/\" directory.\n",
        "# For example, running this (by clicking run or pressing Shift+Enter) will list all files under the input directory\n",
        "\n",
        "import os\n",
        "for dirname, _, filenames in os.walk('/kaggle/input'):\n",
        "    for filename in filenames:\n",
        "        print(os.path.join(dirname, filename))\n",
        "\n",
        "# Any results you write to the current directory are saved as output."
      ],
      "execution_count": null,
      "outputs": []
    },
    {
      "metadata": {
        "id": "p3ehxhGXIIIq"
      },
      "cell_type": "markdown",
      "source": [
        "#  **Importing Important Packages**"
      ]
    },
    {
      "metadata": {
        "trusted": true,
        "id": "Y3dbTChcIIIr"
      },
      "cell_type": "code",
      "source": [
        "import keras\n",
        "from keras.models import Sequential\n",
        "from keras.layers import Dense,Flatten,Conv2D,MaxPool2D,Dropout\n",
        "import matplotlib.pyplot as plt\n",
        "import seaborn as sns\n",
        "from tensorflow.keras.preprocessing.image import ImageDataGenerator"
      ],
      "execution_count": null,
      "outputs": []
    },
    {
      "metadata": {
        "id": "gtdxtSNOIIIr"
      },
      "cell_type": "markdown",
      "source": [
        "# **Loading and Preprocessing the dataset**\n",
        "The dataset format is patterned to match closely with the classic MNIST. Each training and test case represents a label (0-25) as a one-to-one map for each alphabetic letter A-Z (and no cases for 9=J or 25=Z because of gesture motions). The training data (27,455 cases) and test data (7172 cases) are approximately half the size of the standard MNIST handwritten digit dataset but otherwise similar with a header row of label, pixel1,pixel2….pixel784 which represent a single 28x28 pixel image with grayscale values between 0-255.\n"
      ]
    },
    {
      "metadata": {
        "_uuid": "d629ff2d2480ee46fbb7e2d37f6b5fab8052498a",
        "_cell_guid": "79c7e3d0-c299-4dcb-8224-4455121ee9b0",
        "trusted": true,
        "id": "DesMYjqdIIIr"
      },
      "cell_type": "code",
      "source": [
        "train_df=pd.read_csv('/kaggle/input/sign-language-mnist/sign_mnist_train.csv')\n",
        "test_df=pd.read_csv('/kaggle/input/sign-language-mnist/sign_mnist_test.csv')"
      ],
      "execution_count": null,
      "outputs": []
    },
    {
      "metadata": {
        "trusted": true,
        "id": "_rN5DUkPIIIr"
      },
      "cell_type": "code",
      "source": [
        "train_df.info()"
      ],
      "execution_count": null,
      "outputs": []
    },
    {
      "metadata": {
        "trusted": true,
        "id": "j_5qWYFOIIIs"
      },
      "cell_type": "code",
      "source": [
        "test_df.info()"
      ],
      "execution_count": null,
      "outputs": []
    },
    {
      "metadata": {
        "trusted": true,
        "id": "ziisN8qQIIIs"
      },
      "cell_type": "code",
      "source": [
        "train_df.describe()"
      ],
      "execution_count": null,
      "outputs": []
    },
    {
      "metadata": {
        "trusted": true,
        "id": "1Hd_zrIwIIIs"
      },
      "cell_type": "code",
      "source": [
        "train_df.head(6)"
      ],
      "execution_count": null,
      "outputs": []
    },
    {
      "metadata": {
        "id": "Lg27-KvfIIIs"
      },
      "cell_type": "markdown",
      "source": [
        "The train_df dataset consit of 1st column representing labels 1 to 24.\n",
        "The label is loaded in a seperate dataframe called 'train_label' and the 'label' column is dropped from the original training dataframe which now consist of only 784 pixel values for each image."
      ]
    },
    {
      "metadata": {
        "trusted": true,
        "id": "bTAszF1zIIIs"
      },
      "cell_type": "code",
      "source": [
        "train_label=train_df['label']\n",
        "train_label.head()\n",
        "trainset=train_df.drop(['label'],axis=1)\n",
        "trainset.head()"
      ],
      "execution_count": null,
      "outputs": []
    },
    {
      "metadata": {
        "id": "oaedsc60IIIs"
      },
      "cell_type": "markdown",
      "source": [
        "Converting the dataframe to numpy array type to be used while training the CNN.\n",
        "The array is converted from  1-D to 3-D which is the required input to the first layer of the CNN.\n",
        "Similar preprocessing is done to the test dataframe."
      ]
    },
    {
      "metadata": {
        "trusted": true,
        "id": "zg7MDXjcIIIs"
      },
      "cell_type": "code",
      "source": [
        "X_train = trainset.values\n",
        "X_train = trainset.values.reshape(-1,28,28,1)\n",
        "print(X_train.shape)"
      ],
      "execution_count": null,
      "outputs": []
    },
    {
      "metadata": {
        "trusted": true,
        "id": "YgrCMMLqIIIs"
      },
      "cell_type": "code",
      "source": [
        "test_label=test_df['label']\n",
        "X_test=test_df.drop(['label'],axis=1)\n",
        "print(X_test.shape)\n",
        "X_test.head()"
      ],
      "execution_count": null,
      "outputs": []
    },
    {
      "metadata": {
        "id": "QZA2iI9sIIIt"
      },
      "cell_type": "markdown",
      "source": [
        "**Converting the integer labels to binary form**\n",
        "\n",
        "The label dataframe consist of single values from 1 to 24 for each individual picture. The CNN output layer will be of 24 nodes since it has 24 different labels as a multi label classifier. Hence each integer is encoded in a binary array of size 24 with the corresponding label being 1 and all other labels are 0. Such as if y=4 the the array is [0 0 0 1 0 0.....0].\n",
        "The LabelBinarizer package from sklearn.preprocessing is used for that. The document link is https://scikit-learn.org/stable/modules/generated/sklearn.preprocessing.LabelBinarizer.html"
      ]
    },
    {
      "metadata": {
        "trusted": true,
        "id": "8McroVr0IIIt"
      },
      "cell_type": "code",
      "source": [
        "from sklearn.preprocessing import LabelBinarizer\n",
        "lb=LabelBinarizer()\n",
        "y_train=lb.fit_transform(train_label)\n",
        "y_test=lb.fit_transform(test_label)"
      ],
      "execution_count": null,
      "outputs": []
    },
    {
      "metadata": {
        "trusted": true,
        "id": "psLP3IkNIIIt"
      },
      "cell_type": "code",
      "source": [
        "y_train"
      ],
      "execution_count": null,
      "outputs": []
    },
    {
      "metadata": {
        "trusted": true,
        "id": "yjxem7E9IIIt"
      },
      "cell_type": "code",
      "source": [
        "X_test=X_test.values.reshape(-1,28,28,1)"
      ],
      "execution_count": null,
      "outputs": []
    },
    {
      "metadata": {
        "trusted": true,
        "id": "Pnjefj2vIIIt"
      },
      "cell_type": "code",
      "source": [
        "print(X_train.shape,y_train.shape,X_test.shape,y_test.shape)"
      ],
      "execution_count": null,
      "outputs": []
    },
    {
      "metadata": {
        "id": "CGkB9359IIIt"
      },
      "cell_type": "markdown",
      "source": [
        "**Augmenting the image dataset to generate new data**\n",
        "\n",
        "ImageDataGenerator package from keras.preprocessing.image allows to add different distortions to image dataset by providing random rotation, zoom in/out , height or width scaling etc to images pixel by pixel.\n",
        "\n",
        "Here is the package details https://keras.io/preprocessing/image/\n",
        "\n",
        "The image dataset in also normalised here using the rescale parameter which divides each pixel by 255 such that the pixel values range between 0 to 1."
      ]
    },
    {
      "metadata": {
        "trusted": true,
        "id": "q5anUMO1IIIt"
      },
      "cell_type": "code",
      "source": [
        "train_datagen = ImageDataGenerator(rescale = 1./255,\n",
        "                                  rotation_range = 0,\n",
        "                                  height_shift_range=0.2,\n",
        "                                  width_shift_range=0.2,\n",
        "                                  shear_range=0,\n",
        "                                  zoom_range=0.2,\n",
        "                                  horizontal_flip=True,\n",
        "                                  fill_mode='nearest')\n",
        "\n",
        "X_test=X_test/255"
      ],
      "execution_count": null,
      "outputs": []
    },
    {
      "metadata": {
        "id": "75L68l-0IIIt"
      },
      "cell_type": "markdown",
      "source": [
        "# **Visualization of the Dataset**"
      ]
    },
    {
      "metadata": {
        "id": "IVFZkj4TIIIt"
      },
      "cell_type": "markdown",
      "source": [
        "**Preview of the images in the training dataset**"
      ]
    },
    {
      "metadata": {
        "trusted": true,
        "id": "8OBkaYKuIIIt"
      },
      "cell_type": "code",
      "source": [
        "fig,axe=plt.subplots(2,2)\n",
        "fig.suptitle('Preview of dataset')\n",
        "axe[0,0].imshow(X_train[0].reshape(28,28),cmap='gray')\n",
        "axe[0,0].set_title('label: 3  letter: C')\n",
        "axe[0,1].imshow(X_train[1].reshape(28,28),cmap='gray')\n",
        "axe[0,1].set_title('label: 6  letter: F')\n",
        "axe[1,0].imshow(X_train[2].reshape(28,28),cmap='gray')\n",
        "axe[1,0].set_title('label: 2  letter: B')\n",
        "axe[1,1].imshow(X_train[4].reshape(28,28),cmap='gray')\n",
        "axe[1,1].set_title('label: 13  letter: M')"
      ],
      "execution_count": null,
      "outputs": []
    },
    {
      "metadata": {
        "id": "3tPB0yPQIIIt"
      },
      "cell_type": "markdown",
      "source": [
        "**Frequency plot of the labels**"
      ]
    },
    {
      "metadata": {
        "trusted": true,
        "id": "FO62BzZEIIIt"
      },
      "cell_type": "code",
      "source": [
        "sns.countplot(train_label)\n",
        "plt.title(\"Frequency of each label\")"
      ],
      "execution_count": null,
      "outputs": []
    },
    {
      "metadata": {
        "id": "A9zhC8TdIIIt"
      },
      "cell_type": "markdown",
      "source": [
        "# **Building the CNN Model**\n",
        "\n",
        "The model consist of :\n",
        "1. Three convolution layer each followed bt MaxPooling for better feature capture\n",
        "2. A dense layer of 512 units\n",
        "3. The output layer with 24 units for 24 different classes"
      ]
    },
    {
      "metadata": {
        "id": "1f6bbKoIIIIt"
      },
      "cell_type": "markdown",
      "source": [
        "**Convolution layers**\n",
        "\n",
        "Conv layer 1 -- UNITS - 128  KERNEL SIZE - 5 * 5   STRIDE LENGTH - 1   ACTIVATION - ReLu\n",
        "\n",
        "Conv layer 2 -- UNITS - 64   KERNEL SIZE - 3 * 3   STRIDE LENGTH - 1   ACTIVATION - ReLu\n",
        "\n",
        "Conv layer 3 -- UNITS - 32   KERNEL SIZE - 2 * 2   STRIDE LENGTH - 1   ACTIVATION - ReLu\n",
        "\n",
        "\n",
        "\n",
        "\n",
        "MaxPool layer 1 -- MAX POOL WINDOW - 3 * 3   STRIDE - 2\n",
        "\n",
        "MaxPool layer 2 -- MAX POOL WINDOW - 2 * 2   STRIDE - 2\n",
        "\n",
        "MaxPool layer 3 -- MAX POOL WINDOW - 2 * 2   STRIDE - 2"
      ]
    },
    {
      "metadata": {
        "trusted": true,
        "id": "xMv3sQW2IIIt"
      },
      "cell_type": "code",
      "source": [
        "model=Sequential()\n",
        "model.add(Conv2D(128,kernel_size=(5,5),\n",
        "                 strides=1,padding='same',activation='relu',input_shape=(28,28,1)))\n",
        "model.add(MaxPool2D(pool_size=(3,3),strides=2,padding='same'))\n",
        "model.add(Conv2D(64,kernel_size=(2,2),\n",
        "                strides=1,activation='relu',padding='same'))\n",
        "model.add(MaxPool2D((2,2),2,padding='same'))\n",
        "model.add(Conv2D(32,kernel_size=(2,2),\n",
        "                strides=1,activation='relu',padding='same'))\n",
        "model.add(MaxPool2D((2,2),2,padding='same'))\n",
        "\n",
        "model.add(Flatten())"
      ],
      "execution_count": null,
      "outputs": []
    },
    {
      "metadata": {
        "id": "v2W76tvvIIIt"
      },
      "cell_type": "markdown",
      "source": [
        "**Dense and output layers**"
      ]
    },
    {
      "metadata": {
        "trusted": true,
        "id": "hhJrB3hxIIIt"
      },
      "cell_type": "code",
      "source": [
        "model.add(Dense(units=512,activation='relu'))\n",
        "model.add(Dropout(rate=0.25))\n",
        "model.add(Dense(units=24,activation='softmax'))\n",
        "model.summary()\n"
      ],
      "execution_count": null,
      "outputs": []
    },
    {
      "metadata": {
        "trusted": true,
        "id": "KNE2j7s6IIIu"
      },
      "cell_type": "code",
      "source": [
        "model.compile(optimizer='adam',loss='categorical_crossentropy',metrics=['accuracy'])"
      ],
      "execution_count": null,
      "outputs": []
    },
    {
      "metadata": {
        "id": "D6GsjvlBIIIu"
      },
      "cell_type": "markdown",
      "source": [
        "**Training the model**"
      ]
    },
    {
      "metadata": {
        "trusted": true,
        "id": "0R0_pZJ7IIIu"
      },
      "cell_type": "code",
      "source": [
        "model.fit(train_datagen.flow(X_train,y_train,batch_size=200),\n",
        "         epochs = 35,\n",
        "          validation_data=(X_test,y_test),\n",
        "          shuffle=1\n",
        "         )"
      ],
      "execution_count": null,
      "outputs": []
    },
    {
      "metadata": {
        "id": "cT9Sqk_PIIIu"
      },
      "cell_type": "markdown",
      "source": [
        "**Evaluating the model**"
      ]
    },
    {
      "metadata": {
        "trusted": true,
        "id": "L2AMGDMaIIIu"
      },
      "cell_type": "code",
      "source": [
        "(ls,acc)=model.evaluate(x=X_test,y=y_test)"
      ],
      "execution_count": null,
      "outputs": []
    },
    {
      "metadata": {
        "trusted": true,
        "id": "zU5SYFwHIIIu"
      },
      "cell_type": "code",
      "source": [
        "print('MODEL ACCURACY = {}%'.format(acc*100))"
      ],
      "execution_count": null,
      "outputs": []
    }
  ],
  "metadata": {
    "kernelspec": {
      "language": "python",
      "display_name": "Python 3",
      "name": "python3"
    },
    "language_info": {
      "pygments_lexer": "ipython3",
      "nbconvert_exporter": "python",
      "version": "3.6.4",
      "file_extension": ".py",
      "codemirror_mode": {
        "name": "ipython",
        "version": 3
      },
      "name": "python",
      "mimetype": "text/x-python"
    },
    "colab": {
      "name": "MNIST Sign-Language CNN (99.40% Accuracy)",
      "provenance": []
    }
  },
  "nbformat": 4,
  "nbformat_minor": 0
}